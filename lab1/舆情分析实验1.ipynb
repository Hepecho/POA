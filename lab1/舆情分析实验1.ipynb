{
 "cells": [
  {
   "cell_type": "markdown",
   "metadata": {},
   "source": [
    "舆情分析实验（1）文本主题分类\n",
    "==================================\n",
    "\n",
    "实验目的\n",
    "---------------------\n",
    "   - 熟悉简单的文本处理流程和神经网络文本分类模型\n",
    "   \n",
    "     文本分类是将文本按照一定的标准进行分类，比如新闻可以按照内容主题分为体育、科学等等。分类的“规则”可以由人确定，也可以用算法从有标签数据中自动归纳。人工制定分类规则可能并不容易，比如要区分体育和科学新闻，以有没有出现体育项目和运动员姓名来分类是可行的，但制定查找表并不容易，并且不能排除主要讲科学的新闻中出现这些词。自动算法帮助我们从文本中提取特征进行分类，并具有良好的性能和适应性。\n",
    "       - 利用简单的神经网络对文本主题进行分类\n",
    "       \n",
    "       输入：一段文本\n",
    "       \n",
    "       输出：预先定义好的主题类别，如：体育、科学等\n",
    "       \n",
    "       \n",
    "   - 初步了解深度学习框架pytorch的使用\n",
    "   \n",
    "     pytorch是一个开源深度学习框架，是一个基于Python的可续计算包，提供两个高级功能：1、具有强大的GPU加速的张量计算（如NumPy）。2、包含自动求导系统的深度神经网络。"
   ]
  },
  {
   "cell_type": "markdown",
   "metadata": {},
   "source": [
    "实验环境\n",
    "---------------------\n",
    "   - Anaconda3（python==3.9）\n",
    "   \n",
    "   - pytorch（pytorch==1.12.1）\n",
    "      - pytorch是一个开源的深度学习框架，能够利用GPU加速计算\n",
    "   \n",
    "   - torchtext（torchtext==0.13.1）\n"
   ]
  },
  {
   "cell_type": "markdown",
   "metadata": {},
   "source": [
    "实验数据\n",
    "---------------------\n",
    "\n",
    "新闻数据集AG_NEWS\n",
    "\n",
    "AG_NEWS数据集由4大类主题\n",
    "\n",
    "(\"World\",\"Sports\",\"Business\",\"Sci/Tech\")\n",
    "\n",
    "的新闻的标题和描述字段组合而成，每类包含 30,000 个训练和 1,900 个测试样本。\n",
    "\n",
    "如不能自动下载请访问以下链接\n",
    "\n",
    "\n",
    "train:`https://raw.githubusercontent.com/mhjabreel/CharCnn_Keras/master/data/ag_news_csv/train.csv`\n",
    "\n",
    "test:`https://raw.githubusercontent.com/mhjabreel/CharCnn_Keras/master/data/ag_news_csv/test.csv`"
   ]
  },
  {
   "cell_type": "markdown",
   "metadata": {},
   "source": [
    "实验步骤\n",
    "---------------------"
   ]
  },
  {
   "cell_type": "markdown",
   "metadata": {},
   "source": [
    "访问原始数据集\n",
    "---------------------\n",
    "\n",
    "torchtext 库提供了一些原始数据集迭代器，它们给出原始文本字符串。 例如，“AG_NEWS”数据集迭代器将原始数据以标签和文本的元组给出。\n",
    "\n",
    "(\"World\",\"Sports\",\"Business\",\"Sci/Tech\")对应于标签(\"1\",\"2\",\"3\",\"4\")"
   ]
  },
  {
   "cell_type": "code",
   "execution_count": 39,
   "metadata": {},
   "outputs": [],
   "source": [
    "import torch\n",
    "from torchtext.datasets import AG_NEWS\n",
    "path = r''\n",
    "train_iter = AG_NEWS(root=path, split='train')\n",
    "train_iter = iter(train_iter)"
   ]
  },
  {
   "cell_type": "markdown",
   "metadata": {},
   "source": [
    "::\n",
    "\n",
    "    next(train_iter)\n",
    "    >>> (3, \"Wall St. Bears Claw Back Into the Black (Reuters) Reuters - \n",
    "    Short-sellers, Wall Street's dwindling\\\\band of ultra-cynics, are seeing green \n",
    "    again.\")\n",
    "\n",
    "    next(train_iter)\n",
    "    >>> (3, 'Carlyle Looks Toward Commercial Aerospace (Reuters) Reuters - Private \n",
    "    investment firm Carlyle Group,\\\\which has a reputation for making well-timed \n",
    "    and occasionally\\\\controversial plays in the defense industry, has quietly \n",
    "    placed\\\\its bets on another part of the market.')\n",
    "\n",
    "    next(train_iter)\n",
    "    >>> (3, \"Oil and Economy Cloud Stocks' Outlook (Reuters) Reuters - Soaring \n",
    "    crude prices plus worries\\\\about the economy and the outlook for earnings are \n",
    "    expected to\\\\hang over the stock market next week during the depth of \n",
    "    the\\\\summer doldrums.\")\n",
    "\n",
    "\n"
   ]
  },
  {
   "cell_type": "code",
   "execution_count": 40,
   "metadata": {},
   "outputs": [
    {
     "data": {
      "text/plain": "(3,\n \"Wall St. Bears Claw Back Into the Black (Reuters) Reuters - Short-sellers, Wall Street's dwindling\\\\band of ultra-cynics, are seeing green again.\")"
     },
     "execution_count": 40,
     "metadata": {},
     "output_type": "execute_result"
    }
   ],
   "source": [
    "next(train_iter)"
   ]
  },
  {
   "cell_type": "code",
   "execution_count": 41,
   "metadata": {},
   "outputs": [
    {
     "data": {
      "text/plain": "(3,\n 'Carlyle Looks Toward Commercial Aerospace (Reuters) Reuters - Private investment firm Carlyle Group,\\\\which has a reputation for making well-timed and occasionally\\\\controversial plays in the defense industry, has quietly placed\\\\its bets on another part of the market.')"
     },
     "execution_count": 41,
     "metadata": {},
     "output_type": "execute_result"
    }
   ],
   "source": [
    "next(train_iter)"
   ]
  },
  {
   "cell_type": "code",
   "execution_count": 42,
   "metadata": {},
   "outputs": [
    {
     "data": {
      "text/plain": "(3,\n \"Oil and Economy Cloud Stocks' Outlook (Reuters) Reuters - Soaring crude prices plus worries\\\\about the economy and the outlook for earnings are expected to\\\\hang over the stock market next week during the depth of the\\\\summer doldrums.\")"
     },
     "execution_count": 42,
     "metadata": {},
     "output_type": "execute_result"
    }
   ],
   "source": [
    "next(train_iter)"
   ]
  },
  {
   "cell_type": "markdown",
   "metadata": {},
   "source": [
    "准备数据处理管道\n",
    "---------------------------------\n",
    "\n",
    "第一步是使用原始训练数据集构建词汇表。`get_tokenizer`函数对文本进行分词。这里我们使用内置函数`build_vocab_from_iterator` 接受迭代器,它能自动构建词汇表，并把传入的文本字符串转成代表token的整数序列。还可以将任何特殊符号自主添加到词汇表。"
   ]
  },
  {
   "cell_type": "code",
   "execution_count": 43,
   "metadata": {},
   "outputs": [
    {
     "name": "stdout",
     "output_type": "stream",
     "text": [
      "done\n"
     ]
    }
   ],
   "source": [
    "from torchtext.data.utils import get_tokenizer\n",
    "from torchtext.vocab import build_vocab_from_iterator\n",
    "\n",
    "tokenizer = get_tokenizer('basic_english')\n",
    "# 分词\n",
    "train_iter = AG_NEWS(split='train')\n",
    "\n",
    "def yield_tokens(data_iter):\n",
    "    for _, text in data_iter:\n",
    "        yield tokenizer(text)\n",
    "\n",
    "vocab = build_vocab_from_iterator(yield_tokens(train_iter), specials=[\"<unk>\"])\n",
    "vocab.set_default_index(vocab[\"<unk>\"])\n",
    "print('done')\n",
    "# 用<unk>填充那些不在词表中的词。\n",
    "# 词表很难包括所有可能出现的词，这称为out of vocabulary问题（OOV）"
   ]
  },
  {
   "cell_type": "markdown",
   "metadata": {},
   "source": [
    "vocab将token列表转换为整数。\n",
    "\n",
    "::\n",
    "\n",
    "     vocab(['here', 'is', 'an', 'example'])\n",
    "     >>> [475, 21, 30, 5286]"
   ]
  },
  {
   "cell_type": "code",
   "execution_count": 44,
   "metadata": {},
   "outputs": [
    {
     "data": {
      "text/plain": "[475, 21, 30, 5297]"
     },
     "execution_count": 44,
     "metadata": {},
     "output_type": "execute_result"
    }
   ],
   "source": [
    "vocab(['here', 'is', 'an', 'example'])"
   ]
  },
  {
   "cell_type": "code",
   "execution_count": 45,
   "metadata": {},
   "outputs": [],
   "source": [
    "text_pipeline = lambda x: vocab(tokenizer(x))\n",
    "label_pipeline = lambda x: int(x) - 1"
   ]
  },
  {
   "cell_type": "markdown",
   "metadata": {},
   "source": [
    "文本管道根据词汇表中定义的token查找表将文本字符串转换为整数列表。标签管道将标签转换为整数。 例如，\n",
    "\n",
    "::\n",
    "\n",
    "     text_pipeline('here is the an example')\n",
    "     >>> [475, 21, 2, 30, 5286]\n",
    "     label_pipeline('3')\n",
    "     >>> 2\n",
    "\n",
    "注意'3'是字符串格式，转换成整数2"
   ]
  },
  {
   "cell_type": "markdown",
   "metadata": {},
   "source": [
    "数据批处理函数和加载器\n",
    "--------------------------------\n",
    "\n",
    "`torch.utils.data.DataLoader `\n",
    "它与实现\"getitem()\"和\"len()\"的数据集类一起使用，并表示从索引/键到数据样本的映射。\n",
    "\n",
    "在发送到模型之前，``collat​​e_fn`` 函数处理从``DataLoader`` 读取的一批样本。 ``collat​​e_fn`` 的输入是在``DataLoader`` 中具有大小batch的一批数据，``collat​​e_fn`` 根据之前声明的数据处理函数对其进行处理。\n",
    "\n",
    "在这个例子中，原始数据批量输入中的文本条目被打包到一个列表中，并连接为 nn.EmbeddingBag 输入的单个张量。offsets是偏移量的张量，用于表示文本张量中单个序列的开始索引。label是保存单个文本条目标签的张量。"
   ]
  },
  {
   "cell_type": "code",
   "execution_count": 46,
   "metadata": {},
   "outputs": [
    {
     "name": "stdout",
     "output_type": "stream",
     "text": [
      "done\n"
     ]
    }
   ],
   "source": [
    "from torch.utils.data import DataLoader\n",
    "device = torch.device(\"cuda\" if torch.cuda.is_available() else \"cpu\")\n",
    "# 检测是否有安装了cuda的显卡可用\n",
    "\n",
    "def collate_batch(batch):\n",
    "    label_list, text_list, offsets = [], [], [0]\n",
    "    for (_label, _text) in batch:\n",
    "        label_list.append(label_pipeline(_label))\n",
    "        processed_text = torch.tensor(text_pipeline(_text), dtype=torch.int64)\n",
    "        text_list.append(processed_text)\n",
    "        offsets.append(processed_text.size(0))\n",
    "        # 所谓偏移量可以理解为该文本的长度\n",
    "    label_list = torch.tensor(label_list, dtype=torch.int64)\n",
    "    offsets = torch.tensor(offsets[:-1]).cumsum(dim=0)\n",
    "    # .cumsum(dim=0) 第1行不动，累加到其他行\n",
    "    text_list = torch.cat(text_list)  # 连接\n",
    "    return label_list.to(device), text_list.to(device), offsets.to(device)\n",
    "\n",
    "train_iter = AG_NEWS(split='train')\n",
    "dataloader = DataLoader(train_iter, batch_size=8, shuffle=False, collate_fn=collate_batch)\n",
    "print('done')\n",
    "# shuffle=True将打乱数据集，batch_size使得加载器每次读取该数量的条目"
   ]
  },
  {
   "cell_type": "markdown",
   "metadata": {},
   "source": [
    "定义模型\n",
    "----------------\n",
    "\n",
    "该模型由 `nn.EmbeddingBag层和用于分类目的的线性层组成。\n",
    "\n",
    "尽管此处的每条文本具有不同的长度，但 nn.EmbeddingBag 模块在此处不需要填充，因为文本长度保存在偏移量中。\n",
    "\n",
    "\n",
    "![jupyter](https://pytorch.org/tutorials/_images/text_sentiment_ngrams_model.png)"
   ]
  },
  {
   "cell_type": "code",
   "execution_count": 47,
   "metadata": {},
   "outputs": [],
   "source": [
    "from torch import nn\n",
    "# .embedding实际上是一个查找表，一般用来存储词嵌入并通过indices从embedding中恢复词嵌入\n",
    "# EmbeddingBag就是把查找表整合成一个embedding，当不需要具体查表获得embedding，\n",
    "# 只需要一个整合结果时，它比两阶段操作Embedding + sum/mean/max(dim=0)更高效\n",
    "# sparse设置成True时参数weight为稀疏tensor。\n",
    "# 所谓稀疏tensor是说反向传播时只更新当前使用词的embedding，加快更新速度\n",
    "class TextClassificationModel(nn.Module):\n",
    "\n",
    "    def __init__(self, vocab_size, embed_dim, num_class, hidden_dim=128):\n",
    "        \"\"\"\n",
    "        vocab_size: 词汇表大小，vocab将token列表转换为整数\n",
    "        enbed_dim: 词嵌入维度，64\n",
    "        num_class: 文本类的数目，4\n",
    "        hidden_dim：新增的隐藏层维度, default=128\n",
    "        \"\"\"\n",
    "        super(TextClassificationModel, self).__init__()\n",
    "        self.embedding = nn.EmbeddingBag(vocab_size, embed_dim, sparse=True)\n",
    "        # self.embedding.weight.requires_grad = False\n",
    "        # requires_grad固定部分参数进行网络训练\n",
    "        # self.fc = nn.Linear(embed_dim, num_class) #这个就是线性层\n",
    "        self.fc1 = nn.Linear(embed_dim, hidden_dim)\n",
    "        self.active=torch.nn.ReLU()\n",
    "        self.fc2 = nn.Linear(hidden_dim, num_class)\n",
    "        self.init_weights()\n",
    "\n",
    "    def init_weights(self):\n",
    "        initrange = 0.5\n",
    "        self.embedding.weight.data.uniform_(-initrange, initrange)\n",
    "        # self.fc.weight.data.uniform_(-initrange, initrange)\n",
    "        # self.fc.bias.data.zero_()\n",
    "        self.fc1.weight.data.uniform_(-initrange, initrange)\n",
    "        self.fc1.bias.data.zero_()\n",
    "        self.fc2.weight.data.uniform_(-initrange, initrange)\n",
    "        self.fc2.bias.data.zero_()\n",
    "\n",
    "    def forward(self, text, offsets):\n",
    "        embedded = self.embedding(text, offsets)\n",
    "        z1 = self.fc1(embedded)\n",
    "        a1 = self.active(z1)\n",
    "        y_hat = self.fc2(a1)\n",
    "        return y_hat\n",
    "        # return self.fc(embedded)"
   ]
  },
  {
   "cell_type": "markdown",
   "metadata": {},
   "source": [
    "固定随机数种子\n",
    "---------------"
   ]
  },
  {
   "cell_type": "code",
   "execution_count": 48,
   "metadata": {},
   "outputs": [],
   "source": [
    "def seed_torch(seed=6):\n",
    "\n",
    "    #random.seed(seed)\n",
    "    # os.environ['PYTHONHASHSEED'] = str(seed)\n",
    "    #np.random.seed(seed)\n",
    "    torch.manual_seed(seed)\n",
    "    torch.cuda.manual_seed(seed)\n",
    "    torch.backends.cudnn.deterministic = True\n",
    "\n",
    "seed_torch()"
   ]
  },
  {
   "cell_type": "markdown",
   "metadata": {},
   "source": [
    "启动一个实例\n",
    "--------------------\n",
    "\n",
    "``AG_NEWS`` 数据集有四个标签，因此类的数量是四个。\n",
    "\n",
    "::\n",
    "\n",
    "    1： 世界\n",
    "    2 : 运动\n",
    "    3 : 商务\n",
    "    4 : 科学/技术\n",
    "\n",
    "我们构建了一个嵌入维度为 64 的模型。类的数量等于标签的数量。"
   ]
  },
  {
   "cell_type": "code",
   "execution_count": 49,
   "metadata": {},
   "outputs": [
    {
     "name": "stdout",
     "output_type": "stream",
     "text": [
      "Parameter containing:\n",
      "tensor([[ 0.0921, -0.1805,  0.1189,  ...,  0.4112, -0.0949, -0.3417],\n",
      "        [-0.3436, -0.1945, -0.0684,  ..., -0.0204, -0.3853,  0.3721],\n",
      "        [ 0.4780,  0.1204, -0.2799,  ..., -0.3613, -0.3977, -0.4234],\n",
      "        ...,\n",
      "        [-0.0106, -0.2680,  0.1795,  ...,  0.0176,  0.3184, -0.3250],\n",
      "        [-0.2188, -0.1860,  0.0615,  ...,  0.4610,  0.2756, -0.1240],\n",
      "        [ 0.0546, -0.3117,  0.4742,  ..., -0.2603,  0.2283, -0.2978]],\n",
      "       requires_grad=True)\n"
     ]
    }
   ],
   "source": [
    "train_iter = AG_NEWS(split='train')\n",
    "num_class = len(set([label for (label, text) in train_iter]))\n",
    "vocab_size = len(vocab)\n",
    "emsize = 64\n",
    "hidsize = 32\n",
    "model = TextClassificationModel(vocab_size, emsize, num_class, hidsize).to(device)\n",
    "# 打印embedding参数\n",
    "print(model.embedding.weight)"
   ]
  },
  {
   "cell_type": "markdown",
   "metadata": {},
   "source": [
    "定义用于训练模型和评估结果的函数。\n",
    "---------------------------------------------------------"
   ]
  },
  {
   "cell_type": "code",
   "execution_count": 50,
   "metadata": {},
   "outputs": [],
   "source": [
    "import time\n",
    "\n",
    "def train(dataloader):\n",
    "    model.train()\n",
    "    total_acc, total_count = 0, 0\n",
    "    log_interval = 500\n",
    "    start_time = time.time()\n",
    "\n",
    "    for idx, (label, text, offsets) in enumerate(dataloader):\n",
    "        optimizer.zero_grad()\n",
    "        predicted_label = model(text, offsets)\n",
    "        loss = criterion(predicted_label, label)\n",
    "        loss.backward()\n",
    "        torch.nn.utils.clip_grad_norm_(model.parameters(), 0.1)\n",
    "        optimizer.step()\n",
    "        total_acc += (predicted_label.argmax(1) == label).sum().item()\n",
    "        total_count += label.size(0)\n",
    "        if idx % log_interval == 0 and idx > 0:\n",
    "            elapsed = time.time() - start_time\n",
    "            print('| epoch {:3d} | {:5d}/{:5d} batches '\n",
    "                  '| accuracy {:8.3f}'.format(epoch, idx, len(dataloader),\n",
    "                                              total_acc/total_count))\n",
    "            total_acc, total_count = 0, 0\n",
    "            start_time = time.time()\n",
    "\n",
    "def evaluate(dataloader):\n",
    "    model.eval()\n",
    "    total_acc, total_count = 0, 0\n",
    "\n",
    "    with torch.no_grad():\n",
    "        for idx, (label, text, offsets) in enumerate(dataloader):\n",
    "            predicted_label = model(text, offsets)\n",
    "            loss = criterion(predicted_label, label)\n",
    "            total_acc += (predicted_label.argmax(1) == label).sum().item()\n",
    "            total_count += label.size(0)\n",
    "    return total_acc/total_count"
   ]
  },
  {
   "cell_type": "markdown",
   "metadata": {},
   "source": [
    "拆分数据集并运行模型\n",
    "---------------------\n",
    "\n",
    "由于原始``AG_NEWS`` 没有用来验证的数据集，我们拆分\n",
    "将训练数据集转换为训练集/验证集，分割比为 0.95（训练集）和\n",
    "0.05（验证集）。我们使用\n",
    "`torch.utils.data.dataset.random_split`\n",
    "\n",
    "`CrossEntropyLoss`\n",
    "交叉熵损失函数，分类问题常用。\n",
    "\n",
    "`SGD`\n",
    "随机梯度下降法作为优化器。最初的\n",
    "学习率设置为 5.0。\n",
    "\n",
    "`StepLR`\n",
    "用来调整学习率。\n",
    "\n",
    "CPU参考运行时间：7分钟\n",
    "\n",
    "GPU参考运行时间：5分钟"
   ]
  },
  {
   "cell_type": "markdown",
   "source": [
    "Setting_2 = {\n",
    "    &emsp;双线性层\n",
    "    &emsp;无激活函数\n",
    "    &emsp;Hyperparameters{\n",
    "        &emsp;&emsp;EPOCHS = 10\n",
    "        &emsp;&emsp;LR = 5\n",
    "        &emsp;&emsp;BATCH_SIZE = 64\n",
    "    &emsp;}\n",
    "}"
   ],
   "metadata": {
    "collapsed": false
   }
  },
  {
   "cell_type": "code",
   "execution_count": 51,
   "metadata": {},
   "outputs": [
    {
     "name": "stdout",
     "output_type": "stream",
     "text": [
      "| epoch   1 |   500/14250 batches | accuracy    0.420\n",
      "| epoch   1 |  1000/14250 batches | accuracy    0.660\n",
      "| epoch   1 |  1500/14250 batches | accuracy    0.754\n",
      "| epoch   1 |  2000/14250 batches | accuracy    0.794\n",
      "| epoch   1 |  2500/14250 batches | accuracy    0.808\n",
      "| epoch   1 |  3000/14250 batches | accuracy    0.828\n",
      "| epoch   1 |  3500/14250 batches | accuracy    0.846\n",
      "| epoch   1 |  4000/14250 batches | accuracy    0.849\n",
      "| epoch   1 |  4500/14250 batches | accuracy    0.852\n",
      "| epoch   1 |  5000/14250 batches | accuracy    0.854\n",
      "| epoch   1 |  5500/14250 batches | accuracy    0.860\n",
      "| epoch   1 |  6000/14250 batches | accuracy    0.859\n",
      "| epoch   1 |  6500/14250 batches | accuracy    0.871\n",
      "| epoch   1 |  7000/14250 batches | accuracy    0.866\n",
      "| epoch   1 |  7500/14250 batches | accuracy    0.879\n",
      "| epoch   1 |  8000/14250 batches | accuracy    0.868\n",
      "| epoch   1 |  8500/14250 batches | accuracy    0.875\n",
      "| epoch   1 |  9000/14250 batches | accuracy    0.874\n",
      "| epoch   1 |  9500/14250 batches | accuracy    0.869\n",
      "| epoch   1 | 10000/14250 batches | accuracy    0.881\n",
      "| epoch   1 | 10500/14250 batches | accuracy    0.879\n",
      "| epoch   1 | 11000/14250 batches | accuracy    0.881\n",
      "| epoch   1 | 11500/14250 batches | accuracy    0.885\n",
      "| epoch   1 | 12000/14250 batches | accuracy    0.882\n",
      "| epoch   1 | 12500/14250 batches | accuracy    0.871\n",
      "| epoch   1 | 13000/14250 batches | accuracy    0.880\n",
      "| epoch   1 | 13500/14250 batches | accuracy    0.883\n",
      "| epoch   1 | 14000/14250 batches | accuracy    0.886\n",
      "-----------------------------------------------------------\n",
      "| end of epoch   1 | time: 44.34s | valid accuracy    0.885 \n",
      "-----------------------------------------------------------\n",
      "| epoch   2 |   500/14250 batches | accuracy    0.899\n",
      "| epoch   2 |  1000/14250 batches | accuracy    0.906\n",
      "| epoch   2 |  1500/14250 batches | accuracy    0.897\n",
      "| epoch   2 |  2000/14250 batches | accuracy    0.897\n",
      "| epoch   2 |  2500/14250 batches | accuracy    0.910\n",
      "| epoch   2 |  3000/14250 batches | accuracy    0.900\n",
      "| epoch   2 |  3500/14250 batches | accuracy    0.905\n",
      "| epoch   2 |  4000/14250 batches | accuracy    0.895\n",
      "| epoch   2 |  4500/14250 batches | accuracy    0.891\n",
      "| epoch   2 |  5000/14250 batches | accuracy    0.901\n",
      "| epoch   2 |  5500/14250 batches | accuracy    0.900\n",
      "| epoch   2 |  6000/14250 batches | accuracy    0.898\n",
      "| epoch   2 |  6500/14250 batches | accuracy    0.904\n",
      "| epoch   2 |  7000/14250 batches | accuracy    0.909\n",
      "| epoch   2 |  7500/14250 batches | accuracy    0.905\n",
      "| epoch   2 |  8000/14250 batches | accuracy    0.912\n",
      "| epoch   2 |  8500/14250 batches | accuracy    0.911\n",
      "| epoch   2 |  9000/14250 batches | accuracy    0.903\n",
      "| epoch   2 |  9500/14250 batches | accuracy    0.907\n",
      "| epoch   2 | 10000/14250 batches | accuracy    0.909\n",
      "| epoch   2 | 10500/14250 batches | accuracy    0.905\n",
      "| epoch   2 | 11000/14250 batches | accuracy    0.903\n",
      "| epoch   2 | 11500/14250 batches | accuracy    0.897\n",
      "| epoch   2 | 12000/14250 batches | accuracy    0.903\n",
      "| epoch   2 | 12500/14250 batches | accuracy    0.908\n",
      "| epoch   2 | 13000/14250 batches | accuracy    0.915\n",
      "| epoch   2 | 13500/14250 batches | accuracy    0.903\n",
      "| epoch   2 | 14000/14250 batches | accuracy    0.905\n",
      "-----------------------------------------------------------\n",
      "| end of epoch   2 | time: 42.67s | valid accuracy    0.906 \n",
      "-----------------------------------------------------------\n",
      "| epoch   3 |   500/14250 batches | accuracy    0.930\n",
      "| epoch   3 |  1000/14250 batches | accuracy    0.920\n",
      "| epoch   3 |  1500/14250 batches | accuracy    0.921\n",
      "| epoch   3 |  2000/14250 batches | accuracy    0.919\n",
      "| epoch   3 |  2500/14250 batches | accuracy    0.917\n",
      "| epoch   3 |  3000/14250 batches | accuracy    0.912\n",
      "| epoch   3 |  3500/14250 batches | accuracy    0.923\n",
      "| epoch   3 |  4000/14250 batches | accuracy    0.924\n",
      "| epoch   3 |  4500/14250 batches | accuracy    0.919\n",
      "| epoch   3 |  5000/14250 batches | accuracy    0.916\n",
      "| epoch   3 |  5500/14250 batches | accuracy    0.914\n",
      "| epoch   3 |  6000/14250 batches | accuracy    0.913\n",
      "| epoch   3 |  6500/14250 batches | accuracy    0.910\n",
      "| epoch   3 |  7000/14250 batches | accuracy    0.920\n",
      "| epoch   3 |  7500/14250 batches | accuracy    0.913\n",
      "| epoch   3 |  8000/14250 batches | accuracy    0.918\n",
      "| epoch   3 |  8500/14250 batches | accuracy    0.925\n",
      "| epoch   3 |  9000/14250 batches | accuracy    0.923\n",
      "| epoch   3 |  9500/14250 batches | accuracy    0.910\n",
      "| epoch   3 | 10000/14250 batches | accuracy    0.915\n",
      "| epoch   3 | 10500/14250 batches | accuracy    0.925\n",
      "| epoch   3 | 11000/14250 batches | accuracy    0.918\n",
      "| epoch   3 | 11500/14250 batches | accuracy    0.907\n",
      "| epoch   3 | 12000/14250 batches | accuracy    0.921\n",
      "| epoch   3 | 12500/14250 batches | accuracy    0.920\n",
      "| epoch   3 | 13000/14250 batches | accuracy    0.915\n",
      "| epoch   3 | 13500/14250 batches | accuracy    0.911\n",
      "| epoch   3 | 14000/14250 batches | accuracy    0.914\n",
      "-----------------------------------------------------------\n",
      "| end of epoch   3 | time: 45.26s | valid accuracy    0.896 \n",
      "-----------------------------------------------------------\n",
      "| epoch   4 |   500/14250 batches | accuracy    0.937\n",
      "| epoch   4 |  1000/14250 batches | accuracy    0.934\n",
      "| epoch   4 |  1500/14250 batches | accuracy    0.942\n",
      "| epoch   4 |  2000/14250 batches | accuracy    0.935\n",
      "| epoch   4 |  2500/14250 batches | accuracy    0.941\n",
      "| epoch   4 |  3000/14250 batches | accuracy    0.945\n",
      "| epoch   4 |  3500/14250 batches | accuracy    0.944\n",
      "| epoch   4 |  4000/14250 batches | accuracy    0.945\n",
      "| epoch   4 |  4500/14250 batches | accuracy    0.940\n",
      "| epoch   4 |  5000/14250 batches | accuracy    0.938\n",
      "| epoch   4 |  5500/14250 batches | accuracy    0.938\n",
      "| epoch   4 |  6000/14250 batches | accuracy    0.938\n",
      "| epoch   4 |  6500/14250 batches | accuracy    0.946\n",
      "| epoch   4 |  7000/14250 batches | accuracy    0.943\n",
      "| epoch   4 |  7500/14250 batches | accuracy    0.941\n",
      "| epoch   4 |  8000/14250 batches | accuracy    0.945\n",
      "| epoch   4 |  8500/14250 batches | accuracy    0.947\n",
      "| epoch   4 |  9000/14250 batches | accuracy    0.945\n",
      "| epoch   4 |  9500/14250 batches | accuracy    0.943\n",
      "| epoch   4 | 10000/14250 batches | accuracy    0.938\n",
      "| epoch   4 | 10500/14250 batches | accuracy    0.945\n",
      "| epoch   4 | 11000/14250 batches | accuracy    0.947\n",
      "| epoch   4 | 11500/14250 batches | accuracy    0.943\n",
      "| epoch   4 | 12000/14250 batches | accuracy    0.946\n",
      "| epoch   4 | 12500/14250 batches | accuracy    0.943\n",
      "| epoch   4 | 13000/14250 batches | accuracy    0.943\n",
      "| epoch   4 | 13500/14250 batches | accuracy    0.942\n",
      "| epoch   4 | 14000/14250 batches | accuracy    0.945\n",
      "-----------------------------------------------------------\n",
      "| end of epoch   4 | time: 45.00s | valid accuracy    0.916 \n",
      "-----------------------------------------------------------\n",
      "| epoch   5 |   500/14250 batches | accuracy    0.944\n",
      "| epoch   5 |  1000/14250 batches | accuracy    0.950\n",
      "| epoch   5 |  1500/14250 batches | accuracy    0.948\n",
      "| epoch   5 |  2000/14250 batches | accuracy    0.947\n",
      "| epoch   5 |  2500/14250 batches | accuracy    0.949\n",
      "| epoch   5 |  3000/14250 batches | accuracy    0.945\n",
      "| epoch   5 |  3500/14250 batches | accuracy    0.940\n",
      "| epoch   5 |  4000/14250 batches | accuracy    0.946\n",
      "| epoch   5 |  4500/14250 batches | accuracy    0.948\n",
      "| epoch   5 |  5000/14250 batches | accuracy    0.948\n",
      "| epoch   5 |  5500/14250 batches | accuracy    0.943\n",
      "| epoch   5 |  6000/14250 batches | accuracy    0.944\n",
      "| epoch   5 |  6500/14250 batches | accuracy    0.942\n",
      "| epoch   5 |  7000/14250 batches | accuracy    0.948\n",
      "| epoch   5 |  7500/14250 batches | accuracy    0.944\n",
      "| epoch   5 |  8000/14250 batches | accuracy    0.950\n",
      "| epoch   5 |  8500/14250 batches | accuracy    0.945\n",
      "| epoch   5 |  9000/14250 batches | accuracy    0.945\n",
      "| epoch   5 |  9500/14250 batches | accuracy    0.950\n",
      "| epoch   5 | 10000/14250 batches | accuracy    0.945\n",
      "| epoch   5 | 10500/14250 batches | accuracy    0.946\n",
      "| epoch   5 | 11000/14250 batches | accuracy    0.943\n",
      "| epoch   5 | 11500/14250 batches | accuracy    0.941\n",
      "| epoch   5 | 12000/14250 batches | accuracy    0.940\n",
      "| epoch   5 | 12500/14250 batches | accuracy    0.949\n",
      "| epoch   5 | 13000/14250 batches | accuracy    0.946\n",
      "| epoch   5 | 13500/14250 batches | accuracy    0.943\n",
      "| epoch   5 | 14000/14250 batches | accuracy    0.947\n",
      "-----------------------------------------------------------\n",
      "| end of epoch   5 | time: 44.21s | valid accuracy    0.920 \n",
      "-----------------------------------------------------------\n",
      "| epoch   6 |   500/14250 batches | accuracy    0.953\n",
      "| epoch   6 |  1000/14250 batches | accuracy    0.949\n",
      "| epoch   6 |  1500/14250 batches | accuracy    0.942\n",
      "| epoch   6 |  2000/14250 batches | accuracy    0.946\n",
      "| epoch   6 |  2500/14250 batches | accuracy    0.942\n",
      "| epoch   6 |  3000/14250 batches | accuracy    0.952\n",
      "| epoch   6 |  3500/14250 batches | accuracy    0.952\n",
      "| epoch   6 |  4000/14250 batches | accuracy    0.950\n",
      "| epoch   6 |  4500/14250 batches | accuracy    0.949\n",
      "| epoch   6 |  5000/14250 batches | accuracy    0.956\n",
      "| epoch   6 |  5500/14250 batches | accuracy    0.944\n",
      "| epoch   6 |  6000/14250 batches | accuracy    0.951\n",
      "| epoch   6 |  6500/14250 batches | accuracy    0.954\n",
      "| epoch   6 |  7000/14250 batches | accuracy    0.950\n",
      "| epoch   6 |  7500/14250 batches | accuracy    0.947\n",
      "| epoch   6 |  8000/14250 batches | accuracy    0.952\n",
      "| epoch   6 |  8500/14250 batches | accuracy    0.949\n",
      "| epoch   6 |  9000/14250 batches | accuracy    0.949\n",
      "| epoch   6 |  9500/14250 batches | accuracy    0.943\n",
      "| epoch   6 | 10000/14250 batches | accuracy    0.952\n",
      "| epoch   6 | 10500/14250 batches | accuracy    0.944\n",
      "| epoch   6 | 11000/14250 batches | accuracy    0.945\n",
      "| epoch   6 | 11500/14250 batches | accuracy    0.944\n",
      "| epoch   6 | 12000/14250 batches | accuracy    0.950\n",
      "| epoch   6 | 12500/14250 batches | accuracy    0.952\n",
      "| epoch   6 | 13000/14250 batches | accuracy    0.941\n",
      "| epoch   6 | 13500/14250 batches | accuracy    0.946\n",
      "| epoch   6 | 14000/14250 batches | accuracy    0.947\n",
      "-----------------------------------------------------------\n",
      "| end of epoch   6 | time: 41.96s | valid accuracy    0.921 \n",
      "-----------------------------------------------------------\n",
      "| epoch   7 |   500/14250 batches | accuracy    0.952\n",
      "| epoch   7 |  1000/14250 batches | accuracy    0.948\n",
      "| epoch   7 |  1500/14250 batches | accuracy    0.949\n",
      "| epoch   7 |  2000/14250 batches | accuracy    0.952\n",
      "| epoch   7 |  2500/14250 batches | accuracy    0.957\n",
      "| epoch   7 |  3000/14250 batches | accuracy    0.944\n",
      "| epoch   7 |  3500/14250 batches | accuracy    0.949\n",
      "| epoch   7 |  4000/14250 batches | accuracy    0.952\n",
      "| epoch   7 |  4500/14250 batches | accuracy    0.950\n",
      "| epoch   7 |  5000/14250 batches | accuracy    0.945\n",
      "| epoch   7 |  5500/14250 batches | accuracy    0.946\n",
      "| epoch   7 |  6000/14250 batches | accuracy    0.952\n",
      "| epoch   7 |  6500/14250 batches | accuracy    0.954\n",
      "| epoch   7 |  7000/14250 batches | accuracy    0.950\n",
      "| epoch   7 |  7500/14250 batches | accuracy    0.952\n",
      "| epoch   7 |  8000/14250 batches | accuracy    0.950\n",
      "| epoch   7 |  8500/14250 batches | accuracy    0.947\n",
      "| epoch   7 |  9000/14250 batches | accuracy    0.948\n",
      "| epoch   7 |  9500/14250 batches | accuracy    0.950\n",
      "| epoch   7 | 10000/14250 batches | accuracy    0.953\n",
      "| epoch   7 | 10500/14250 batches | accuracy    0.948\n",
      "| epoch   7 | 11000/14250 batches | accuracy    0.946\n",
      "| epoch   7 | 11500/14250 batches | accuracy    0.949\n",
      "| epoch   7 | 12000/14250 batches | accuracy    0.952\n",
      "| epoch   7 | 12500/14250 batches | accuracy    0.947\n",
      "| epoch   7 | 13000/14250 batches | accuracy    0.950\n",
      "| epoch   7 | 13500/14250 batches | accuracy    0.954\n",
      "| epoch   7 | 14000/14250 batches | accuracy    0.942\n",
      "-----------------------------------------------------------\n",
      "| end of epoch   7 | time: 43.81s | valid accuracy    0.922 \n",
      "-----------------------------------------------------------\n",
      "| epoch   8 |   500/14250 batches | accuracy    0.947\n",
      "| epoch   8 |  1000/14250 batches | accuracy    0.954\n",
      "| epoch   8 |  1500/14250 batches | accuracy    0.954\n",
      "| epoch   8 |  2000/14250 batches | accuracy    0.957\n",
      "| epoch   8 |  2500/14250 batches | accuracy    0.950\n",
      "| epoch   8 |  3000/14250 batches | accuracy    0.952\n",
      "| epoch   8 |  3500/14250 batches | accuracy    0.948\n",
      "| epoch   8 |  4000/14250 batches | accuracy    0.956\n",
      "| epoch   8 |  4500/14250 batches | accuracy    0.952\n",
      "| epoch   8 |  5000/14250 batches | accuracy    0.952\n",
      "| epoch   8 |  5500/14250 batches | accuracy    0.954\n",
      "| epoch   8 |  6000/14250 batches | accuracy    0.951\n",
      "| epoch   8 |  6500/14250 batches | accuracy    0.954\n",
      "| epoch   8 |  7000/14250 batches | accuracy    0.947\n",
      "| epoch   8 |  7500/14250 batches | accuracy    0.952\n",
      "| epoch   8 |  8000/14250 batches | accuracy    0.943\n",
      "| epoch   8 |  8500/14250 batches | accuracy    0.950\n",
      "| epoch   8 |  9000/14250 batches | accuracy    0.952\n",
      "| epoch   8 |  9500/14250 batches | accuracy    0.949\n",
      "| epoch   8 | 10000/14250 batches | accuracy    0.953\n",
      "| epoch   8 | 10500/14250 batches | accuracy    0.951\n",
      "| epoch   8 | 11000/14250 batches | accuracy    0.951\n",
      "| epoch   8 | 11500/14250 batches | accuracy    0.951\n",
      "| epoch   8 | 12000/14250 batches | accuracy    0.953\n",
      "| epoch   8 | 12500/14250 batches | accuracy    0.954\n",
      "| epoch   8 | 13000/14250 batches | accuracy    0.953\n",
      "| epoch   8 | 13500/14250 batches | accuracy    0.942\n",
      "| epoch   8 | 14000/14250 batches | accuracy    0.954\n",
      "-----------------------------------------------------------\n",
      "| end of epoch   8 | time: 48.76s | valid accuracy    0.919 \n",
      "-----------------------------------------------------------\n",
      "| epoch   9 |   500/14250 batches | accuracy    0.955\n",
      "| epoch   9 |  1000/14250 batches | accuracy    0.951\n",
      "| epoch   9 |  1500/14250 batches | accuracy    0.950\n",
      "| epoch   9 |  2000/14250 batches | accuracy    0.953\n",
      "| epoch   9 |  2500/14250 batches | accuracy    0.956\n",
      "| epoch   9 |  3000/14250 batches | accuracy    0.955\n",
      "| epoch   9 |  3500/14250 batches | accuracy    0.957\n",
      "| epoch   9 |  4000/14250 batches | accuracy    0.956\n",
      "| epoch   9 |  4500/14250 batches | accuracy    0.953\n",
      "| epoch   9 |  5000/14250 batches | accuracy    0.953\n",
      "| epoch   9 |  5500/14250 batches | accuracy    0.953\n",
      "| epoch   9 |  6000/14250 batches | accuracy    0.956\n",
      "| epoch   9 |  6500/14250 batches | accuracy    0.958\n",
      "| epoch   9 |  7000/14250 batches | accuracy    0.958\n",
      "| epoch   9 |  7500/14250 batches | accuracy    0.954\n",
      "| epoch   9 |  8000/14250 batches | accuracy    0.954\n",
      "| epoch   9 |  8500/14250 batches | accuracy    0.954\n",
      "| epoch   9 |  9000/14250 batches | accuracy    0.951\n",
      "| epoch   9 |  9500/14250 batches | accuracy    0.955\n",
      "| epoch   9 | 10000/14250 batches | accuracy    0.952\n",
      "| epoch   9 | 10500/14250 batches | accuracy    0.956\n",
      "| epoch   9 | 11000/14250 batches | accuracy    0.955\n",
      "| epoch   9 | 11500/14250 batches | accuracy    0.954\n",
      "| epoch   9 | 12000/14250 batches | accuracy    0.950\n",
      "| epoch   9 | 12500/14250 batches | accuracy    0.957\n",
      "| epoch   9 | 13000/14250 batches | accuracy    0.949\n",
      "| epoch   9 | 13500/14250 batches | accuracy    0.955\n",
      "| epoch   9 | 14000/14250 batches | accuracy    0.957\n",
      "-----------------------------------------------------------\n",
      "| end of epoch   9 | time: 40.57s | valid accuracy    0.923 \n",
      "-----------------------------------------------------------\n",
      "| epoch  10 |   500/14250 batches | accuracy    0.955\n",
      "| epoch  10 |  1000/14250 batches | accuracy    0.959\n",
      "| epoch  10 |  1500/14250 batches | accuracy    0.956\n",
      "| epoch  10 |  2000/14250 batches | accuracy    0.959\n",
      "| epoch  10 |  2500/14250 batches | accuracy    0.955\n",
      "| epoch  10 |  3000/14250 batches | accuracy    0.953\n",
      "| epoch  10 |  3500/14250 batches | accuracy    0.954\n",
      "| epoch  10 |  4000/14250 batches | accuracy    0.960\n",
      "| epoch  10 |  4500/14250 batches | accuracy    0.955\n",
      "| epoch  10 |  5000/14250 batches | accuracy    0.955\n",
      "| epoch  10 |  5500/14250 batches | accuracy    0.954\n",
      "| epoch  10 |  6000/14250 batches | accuracy    0.954\n",
      "| epoch  10 |  6500/14250 batches | accuracy    0.946\n",
      "| epoch  10 |  7000/14250 batches | accuracy    0.959\n",
      "| epoch  10 |  7500/14250 batches | accuracy    0.952\n",
      "| epoch  10 |  8000/14250 batches | accuracy    0.954\n",
      "| epoch  10 |  8500/14250 batches | accuracy    0.955\n",
      "| epoch  10 |  9000/14250 batches | accuracy    0.956\n",
      "| epoch  10 |  9500/14250 batches | accuracy    0.952\n",
      "| epoch  10 | 10000/14250 batches | accuracy    0.957\n",
      "| epoch  10 | 10500/14250 batches | accuracy    0.954\n",
      "| epoch  10 | 11000/14250 batches | accuracy    0.953\n",
      "| epoch  10 | 11500/14250 batches | accuracy    0.958\n",
      "| epoch  10 | 12000/14250 batches | accuracy    0.949\n",
      "| epoch  10 | 12500/14250 batches | accuracy    0.954\n",
      "| epoch  10 | 13000/14250 batches | accuracy    0.954\n",
      "| epoch  10 | 13500/14250 batches | accuracy    0.959\n",
      "| epoch  10 | 14000/14250 batches | accuracy    0.953\n",
      "-----------------------------------------------------------\n",
      "| end of epoch  10 | time: 37.37s | valid accuracy    0.924 \n",
      "-----------------------------------------------------------\n"
     ]
    }
   ],
   "source": [
    "from torch.utils.data.dataset import random_split\n",
    "from torchtext.data.functional import to_map_style_dataset\n",
    "\n",
    "# 定义cache, 缓存epoch的结果\n",
    "cache = {\n",
    "    'epoch': [],\n",
    "    'acc': []\n",
    "}\n",
    "\n",
    "# Hyperparameters超参数\n",
    "EPOCHS = 10 # epoch\n",
    "LR = 5  # learning rate学习率\n",
    "BATCH_SIZE = 8 # batch size for training\n",
    "\n",
    "#定义损失函数\n",
    "criterion = torch.nn.CrossEntropyLoss()\n",
    "#定义优化器\n",
    "optimizer = torch.optim.SGD(model.parameters(), lr=LR)\n",
    "scheduler = torch.optim.lr_scheduler.StepLR(optimizer, 1.0, gamma=0.1)\n",
    "total_accu = None\n",
    "\n",
    "path = r''\n",
    "train_iter, test_iter = AG_NEWS(root=path)\n",
    "# train_iter, test_iter是迭代器的形式，to_map_style_dataset将其\n",
    "# 转成DataLoader能读取的格式，参考torch.utils.data.Dataset类\n",
    "train_dataset = to_map_style_dataset(iter(train_iter))\n",
    "test_dataset = to_map_style_dataset(iter(test_iter))\n",
    "#train_dataset = AG_NEWS('train')\n",
    "#test_dataset = AG_NEWS('test')\n",
    "\n",
    "num_train = int(len(train_dataset) * 0.95)\n",
    "split_train_, split_valid_ = \\\n",
    "    random_split(train_dataset, [num_train, len(train_dataset) - num_train])\n",
    "\n",
    "train_dataloader = DataLoader(split_train_, batch_size=BATCH_SIZE,\n",
    "                              shuffle=True, collate_fn=collate_batch)\n",
    "valid_dataloader = DataLoader(split_valid_, batch_size=BATCH_SIZE,\n",
    "                              shuffle=True, collate_fn=collate_batch)\n",
    "test_dataloader = DataLoader(test_dataset, batch_size=BATCH_SIZE,\n",
    "                             shuffle=True, collate_fn=collate_batch)\n",
    "\n",
    "for epoch in range(1, EPOCHS + 1):\n",
    "    epoch_start_time = time.time()\n",
    "    train(train_dataloader)\n",
    "    accu_val = evaluate(valid_dataloader)\n",
    "    if total_accu is not None and total_accu > accu_val:\n",
    "        scheduler.step()\n",
    "    else:\n",
    "        total_accu = accu_val\n",
    "    cache['epoch'].append(epoch)\n",
    "    cache['acc'].append(accu_val)\n",
    "    print('-' * 59)\n",
    "    print('| end of epoch {:3d} | time: {:5.2f}s | '\n",
    "          'valid accuracy {:8.3f} '.format(epoch,\n",
    "                                           time.time() - epoch_start_time,\n",
    "                                           accu_val))\n",
    "    print('-' * 59)"
   ]
  },
  {
   "cell_type": "code",
   "execution_count": 52,
   "outputs": [
    {
     "data": {
      "text/plain": "<Figure size 432x288 with 1 Axes>",
      "image/png": "[encoded data removed]"
     },
     "metadata": {},
     "output_type": "display_data"
    },
    {
     "name": "stdout",
     "output_type": "stream",
     "text": [
      "Parameter containing:\n",
      "tensor([[ 0.0921, -0.1805,  0.1189,  ...,  0.4112, -0.0949, -0.3417],\n",
      "        [-0.0752,  0.0599,  0.4923,  ...,  0.2468, -0.3721,  0.1878],\n",
      "        [ 0.1334,  0.1052, -0.0706,  ...,  0.0091, -0.1186, -0.0474],\n",
      "        ...,\n",
      "        [-0.0107, -0.2680,  0.1794,  ...,  0.0176,  0.3184, -0.3250],\n",
      "        [-0.2294, -0.1787,  0.0606,  ...,  0.4658,  0.2753, -0.1123],\n",
      "        [ 0.0602, -0.3091,  0.4774,  ..., -0.2638,  0.2307, -0.3002]],\n",
      "       requires_grad=True)\n"
     ]
    }
   ],
   "source": [
    "import matplotlib\n",
    "import seaborn as sns\n",
    "import matplotlib.pyplot as plt\n",
    "# %matplotlib auto\n",
    "\n",
    "sns.set(style='dark')\n",
    "sns.lineplot(x=\"epoch\", y=\"acc\", data=cache).set_xlim(0,11)\n",
    "# 添加文本标签\n",
    "for i in range(len(cache['epoch'])):\n",
    "    plt.text(cache['epoch'][i] + 0.2, cache['acc'][i], \"{:.3f}\".format(cache['acc'][i]))\n",
    "plt.show()\n",
    "# 打印embedding参数\n",
    "print(model.embedding.weight)"
   ],
   "metadata": {
    "collapsed": false
   }
  },
  {
   "cell_type": "code",
   "execution_count": 53,
   "outputs": [
    {
     "data": {
      "text/plain": "''"
     },
     "execution_count": 53,
     "metadata": {},
     "output_type": "execute_result"
    }
   ],
   "source": [
    "input()"
   ],
   "metadata": {
    "collapsed": false
   }
  },
  {
   "cell_type": "markdown",
   "metadata": {},
   "source": [
    "使用测试数据集评估模型\n",
    "---------------------"
   ]
  },
  {
   "cell_type": "markdown",
   "metadata": {},
   "source": [
    "检查测试数据集的结果…"
   ]
  },
  {
   "cell_type": "code",
   "execution_count": 54,
   "metadata": {},
   "outputs": [
    {
     "name": "stdout",
     "output_type": "stream",
     "text": [
      "Checking the results of test dataset.\n",
      "test accuracy    0.914\n"
     ]
    }
   ],
   "source": [
    "print('Checking the results of test dataset.')\n",
    "accu_test = evaluate(test_dataloader)\n",
    "print('test accuracy {:8.3f}'.format(accu_test))"
   ]
  },
  {
   "cell_type": "markdown",
   "metadata": {},
   "source": [
    "测试一条新闻\n",
    "---------------------\n",
    "\n",
    "使用该模型并测试一条高尔夫新闻（体育）。"
   ]
  },
  {
   "cell_type": "code",
   "execution_count": 55,
   "metadata": {},
   "outputs": [
    {
     "name": "stdout",
     "output_type": "stream",
     "text": [
      "This is a Sports news\n"
     ]
    }
   ],
   "source": [
    "ag_news_label = {1: \"World\",\n",
    "                 2: \"Sports\",\n",
    "                 3: \"Business\",\n",
    "                 4: \"Sci/Tec\"}\n",
    "\n",
    "def predict(text, text_pipeline):\n",
    "    with torch.no_grad():\n",
    "        text = torch.tensor(text_pipeline(text))\n",
    "        output = model(text.to(device), torch.tensor([0]).to(device))\n",
    "        return output.argmax(1).item() + 1\n",
    "\n",
    "ex_text_str = \"MEMPHIS, Tenn. – Four days ago, Jon Rahm was \\\n",
    "    enduring the season’s worst weather conditions on Sunday at The \\\n",
    "    Open on his way to a closing 75 at Royal Portrush, which \\\n",
    "    considering the wind and the rain was a respectable showing. \\\n",
    "    Thursday’s first round at the WGC-FedEx St. Jude Invitational \\\n",
    "    was another story. With temperatures in the mid-80s and hardly any \\\n",
    "    wind, the Spaniard was 13 strokes better in a flawless round. \\\n",
    "    Thanks to his best putting performance on the PGA Tour, Rahm \\\n",
    "    finished with an 8-under 62 for a three-stroke lead, which \\\n",
    "    was even more impressive considering he’d never played the \\\n",
    "    front nine at TPC Southwind.\"\n",
    "\n",
    "print(\"This is a %s news\" %ag_news_label[predict(ex_text_str, text_pipeline)])"
   ]
  },
  {
   "cell_type": "markdown",
   "metadata": {},
   "source": [
    "使用LSTM模型\n",
    "---------------------\n",
    "\n",
    "长短期记忆网络——通常被称为 LSTM，是一种特殊的 RNN，能够学习长期依赖性。由 Hochreiter 和 Schmidhuber（1997）提出。\n",
    "\n",
    "![jupyter](https://n.sinaimg.cn/spider202044/731/w1040h491/20200404/0bc7-irtymmw0458671.png)\n",
    "\n",
    "CPU参考运行时间：30分钟\n",
    "\n",
    "GPU参考运行时间：8分钟"
   ]
  },
  {
   "cell_type": "code",
   "execution_count": 56,
   "metadata": {},
   "outputs": [],
   "source": [
    "class LSTM(nn.Module):\n",
    "    def __init__(self, vocab_size, embed_dim, num_class, hidden_size, num_layers):\n",
    "        super(LSTM, self).__init__()\n",
    "        self.embedding = nn.EmbeddingBag(vocab_size, embed_dim, sparse=True)\n",
    "        self.lstm = nn.LSTM(embed_dim, hidden_size, num_layers, bidirectional=False)\n",
    "        # num_layers定义了LSTM网络的层数，bidirectional表示是单向LSTM还是双向LSTM（BiLSTM）\n",
    "        self.fc = nn.Linear(hidden_size, num_class)\n",
    "        self.init_weights()\n",
    "    \n",
    "    def init_weights(self):\n",
    "        initrange = 0.5\n",
    "        self.embedding.weight.data.uniform_(-initrange, initrange)\n",
    "        self.fc.weight.data.uniform_(-initrange, initrange)\n",
    "        self.fc.bias.data.zero_()\n",
    "    \n",
    "    def forward(self, text, offsets):\n",
    "        embedded = self.embedding(text, offsets).unsqueeze(1)\n",
    "\n",
    "        output, (hn, cn) = self.lstm(embedded)\n",
    "        return self.fc(output)"
   ]
  },
  {
   "cell_type": "code",
   "execution_count": 57,
   "metadata": {},
   "outputs": [
    {
     "ename": "KeyboardInterrupt",
     "evalue": "",
     "output_type": "error",
     "traceback": [
      "\u001B[1;31m---------------------------------------------------------------------------\u001B[0m",
      "\u001B[1;31mKeyboardInterrupt\u001B[0m                         Traceback (most recent call last)",
      "Input \u001B[1;32mIn [57]\u001B[0m, in \u001B[0;36m<cell line: 3>\u001B[1;34m()\u001B[0m\n\u001B[0;32m      1\u001B[0m train_iter \u001B[38;5;241m=\u001B[39m AG_NEWS(split\u001B[38;5;241m=\u001B[39m\u001B[38;5;124m'\u001B[39m\u001B[38;5;124mtrain\u001B[39m\u001B[38;5;124m'\u001B[39m)\n\u001B[0;32m      2\u001B[0m \u001B[38;5;66;03m#train_iter = iter(AG_NEWS('train'))\u001B[39;00m\n\u001B[1;32m----> 3\u001B[0m num_class \u001B[38;5;241m=\u001B[39m \u001B[38;5;28mlen\u001B[39m(\u001B[38;5;28mset\u001B[39m([label \u001B[38;5;28;01mfor\u001B[39;00m (label, text) \u001B[38;5;129;01min\u001B[39;00m train_iter]))\n\u001B[0;32m      4\u001B[0m vocab_size \u001B[38;5;241m=\u001B[39m \u001B[38;5;28mlen\u001B[39m(vocab)\n\u001B[0;32m      5\u001B[0m emsize \u001B[38;5;241m=\u001B[39m \u001B[38;5;241m64\u001B[39m\n",
      "Input \u001B[1;32mIn [57]\u001B[0m, in \u001B[0;36m<listcomp>\u001B[1;34m(.0)\u001B[0m\n\u001B[0;32m      1\u001B[0m train_iter \u001B[38;5;241m=\u001B[39m AG_NEWS(split\u001B[38;5;241m=\u001B[39m\u001B[38;5;124m'\u001B[39m\u001B[38;5;124mtrain\u001B[39m\u001B[38;5;124m'\u001B[39m)\n\u001B[0;32m      2\u001B[0m \u001B[38;5;66;03m#train_iter = iter(AG_NEWS('train'))\u001B[39;00m\n\u001B[1;32m----> 3\u001B[0m num_class \u001B[38;5;241m=\u001B[39m \u001B[38;5;28mlen\u001B[39m(\u001B[38;5;28mset\u001B[39m([label \u001B[38;5;28;01mfor\u001B[39;00m (label, text) \u001B[38;5;129;01min\u001B[39;00m train_iter]))\n\u001B[0;32m      4\u001B[0m vocab_size \u001B[38;5;241m=\u001B[39m \u001B[38;5;28mlen\u001B[39m(vocab)\n\u001B[0;32m      5\u001B[0m emsize \u001B[38;5;241m=\u001B[39m \u001B[38;5;241m64\u001B[39m\n",
      "File \u001B[1;32mD:\\Code_Program\\Anaconda3\\lib\\site-packages\\torch\\utils\\data\\datapipes\\_typing.py:525\u001B[0m, in \u001B[0;36mhook_iterator.<locals>.wrap_generator\u001B[1;34m(*args, **kwargs)\u001B[0m\n\u001B[0;32m    523\u001B[0m         \u001B[38;5;28;01melse\u001B[39;00m:  \u001B[38;5;66;03m# Decided against using `contextlib.nullcontext` for performance reasons\u001B[39;00m\n\u001B[0;32m    524\u001B[0m             _check_iterator_valid(datapipe, iterator_id)\n\u001B[1;32m--> 525\u001B[0m             response \u001B[38;5;241m=\u001B[39m \u001B[43mgen\u001B[49m\u001B[38;5;241;43m.\u001B[39;49m\u001B[43msend\u001B[49m\u001B[43m(\u001B[49m\u001B[43mrequest\u001B[49m\u001B[43m)\u001B[49m\n\u001B[0;32m    526\u001B[0m \u001B[38;5;28;01mexcept\u001B[39;00m \u001B[38;5;167;01mStopIteration\u001B[39;00m \u001B[38;5;28;01mas\u001B[39;00m e:\n\u001B[0;32m    527\u001B[0m     \u001B[38;5;28;01mreturn\u001B[39;00m e\u001B[38;5;241m.\u001B[39mvalue\n",
      "File \u001B[1;32mD:\\Code_Program\\Anaconda3\\lib\\site-packages\\torch\\utils\\data\\datapipes\\iter\\grouping.py:41\u001B[0m, in \u001B[0;36mShardingFilterIterDataPipe.__iter__\u001B[1;34m(self)\u001B[0m\n\u001B[0;32m     40\u001B[0m \u001B[38;5;28;01mdef\u001B[39;00m \u001B[38;5;21m__iter__\u001B[39m(\u001B[38;5;28mself\u001B[39m):\n\u001B[1;32m---> 41\u001B[0m     \u001B[38;5;28;01mfor\u001B[39;00m i, item \u001B[38;5;129;01min\u001B[39;00m \u001B[38;5;28menumerate\u001B[39m(\u001B[38;5;28mself\u001B[39m\u001B[38;5;241m.\u001B[39msource_datapipe):\n\u001B[0;32m     42\u001B[0m         \u001B[38;5;28;01mif\u001B[39;00m i \u001B[38;5;241m%\u001B[39m \u001B[38;5;28mself\u001B[39m\u001B[38;5;241m.\u001B[39mnum_of_instances \u001B[38;5;241m==\u001B[39m \u001B[38;5;28mself\u001B[39m\u001B[38;5;241m.\u001B[39minstance_id:\n\u001B[0;32m     43\u001B[0m             \u001B[38;5;28;01myield\u001B[39;00m item\n",
      "File \u001B[1;32mD:\\Code_Program\\Anaconda3\\lib\\site-packages\\torch\\utils\\data\\datapipes\\_typing.py:525\u001B[0m, in \u001B[0;36mhook_iterator.<locals>.wrap_generator\u001B[1;34m(*args, **kwargs)\u001B[0m\n\u001B[0;32m    523\u001B[0m         \u001B[38;5;28;01melse\u001B[39;00m:  \u001B[38;5;66;03m# Decided against using `contextlib.nullcontext` for performance reasons\u001B[39;00m\n\u001B[0;32m    524\u001B[0m             _check_iterator_valid(datapipe, iterator_id)\n\u001B[1;32m--> 525\u001B[0m             response \u001B[38;5;241m=\u001B[39m \u001B[43mgen\u001B[49m\u001B[38;5;241;43m.\u001B[39;49m\u001B[43msend\u001B[49m\u001B[43m(\u001B[49m\u001B[43mrequest\u001B[49m\u001B[43m)\u001B[49m\n\u001B[0;32m    526\u001B[0m \u001B[38;5;28;01mexcept\u001B[39;00m \u001B[38;5;167;01mStopIteration\u001B[39;00m \u001B[38;5;28;01mas\u001B[39;00m e:\n\u001B[0;32m    527\u001B[0m     \u001B[38;5;28;01mreturn\u001B[39;00m e\u001B[38;5;241m.\u001B[39mvalue\n",
      "File \u001B[1;32mD:\\Code_Program\\Anaconda3\\lib\\site-packages\\torch\\utils\\data\\datapipes\\iter\\combinatorics.py:122\u001B[0m, in \u001B[0;36mShufflerIterDataPipe.__iter__\u001B[1;34m(self)\u001B[0m\n\u001B[0;32m    120\u001B[0m \u001B[38;5;28;01mdef\u001B[39;00m \u001B[38;5;21m__iter__\u001B[39m(\u001B[38;5;28mself\u001B[39m) \u001B[38;5;241m-\u001B[39m\u001B[38;5;241m>\u001B[39m Iterator[T_co]:\n\u001B[0;32m    121\u001B[0m     \u001B[38;5;28;01mif\u001B[39;00m \u001B[38;5;129;01mnot\u001B[39;00m \u001B[38;5;28mself\u001B[39m\u001B[38;5;241m.\u001B[39m_enabled:\n\u001B[1;32m--> 122\u001B[0m         \u001B[38;5;28;01mfor\u001B[39;00m x \u001B[38;5;129;01min\u001B[39;00m \u001B[38;5;28mself\u001B[39m\u001B[38;5;241m.\u001B[39mdatapipe:\n\u001B[0;32m    123\u001B[0m             \u001B[38;5;28;01myield\u001B[39;00m x\n\u001B[0;32m    124\u001B[0m     \u001B[38;5;28;01melse\u001B[39;00m:\n",
      "File \u001B[1;32mD:\\Code_Program\\Anaconda3\\lib\\site-packages\\torch\\utils\\data\\datapipes\\_typing.py:525\u001B[0m, in \u001B[0;36mhook_iterator.<locals>.wrap_generator\u001B[1;34m(*args, **kwargs)\u001B[0m\n\u001B[0;32m    523\u001B[0m         \u001B[38;5;28;01melse\u001B[39;00m:  \u001B[38;5;66;03m# Decided against using `contextlib.nullcontext` for performance reasons\u001B[39;00m\n\u001B[0;32m    524\u001B[0m             _check_iterator_valid(datapipe, iterator_id)\n\u001B[1;32m--> 525\u001B[0m             response \u001B[38;5;241m=\u001B[39m \u001B[43mgen\u001B[49m\u001B[38;5;241;43m.\u001B[39;49m\u001B[43msend\u001B[49m\u001B[43m(\u001B[49m\u001B[43mrequest\u001B[49m\u001B[43m)\u001B[49m\n\u001B[0;32m    526\u001B[0m \u001B[38;5;28;01mexcept\u001B[39;00m \u001B[38;5;167;01mStopIteration\u001B[39;00m \u001B[38;5;28;01mas\u001B[39;00m e:\n\u001B[0;32m    527\u001B[0m     \u001B[38;5;28;01mreturn\u001B[39;00m e\u001B[38;5;241m.\u001B[39mvalue\n",
      "File \u001B[1;32mD:\\Code_Program\\Anaconda3\\lib\\site-packages\\torch\\utils\\data\\datapipes\\iter\\callable.py:116\u001B[0m, in \u001B[0;36mMapperIterDataPipe.__iter__\u001B[1;34m(self)\u001B[0m\n\u001B[0;32m    114\u001B[0m \u001B[38;5;28;01mdef\u001B[39;00m \u001B[38;5;21m__iter__\u001B[39m(\u001B[38;5;28mself\u001B[39m) \u001B[38;5;241m-\u001B[39m\u001B[38;5;241m>\u001B[39m Iterator[T_co]:\n\u001B[0;32m    115\u001B[0m     \u001B[38;5;28;01mfor\u001B[39;00m data \u001B[38;5;129;01min\u001B[39;00m \u001B[38;5;28mself\u001B[39m\u001B[38;5;241m.\u001B[39mdatapipe:\n\u001B[1;32m--> 116\u001B[0m         \u001B[38;5;28;01myield\u001B[39;00m \u001B[38;5;28;43mself\u001B[39;49m\u001B[38;5;241;43m.\u001B[39;49m\u001B[43m_apply_fn\u001B[49m\u001B[43m(\u001B[49m\u001B[43mdata\u001B[49m\u001B[43m)\u001B[49m\n",
      "File \u001B[1;32mD:\\Code_Program\\Anaconda3\\lib\\site-packages\\torch\\utils\\data\\datapipes\\iter\\callable.py:79\u001B[0m, in \u001B[0;36mMapperIterDataPipe._apply_fn\u001B[1;34m(self, data)\u001B[0m\n\u001B[0;32m     76\u001B[0m         output_col \u001B[38;5;241m=\u001B[39m output_col[\u001B[38;5;241m0\u001B[39m]\n\u001B[0;32m     77\u001B[0m     \u001B[38;5;28mself\u001B[39m\u001B[38;5;241m.\u001B[39moutput_col \u001B[38;5;241m=\u001B[39m output_col\n\u001B[1;32m---> 79\u001B[0m \u001B[38;5;28;01mdef\u001B[39;00m \u001B[38;5;21m_apply_fn\u001B[39m(\u001B[38;5;28mself\u001B[39m, data):\n\u001B[0;32m     80\u001B[0m     \u001B[38;5;28;01mif\u001B[39;00m \u001B[38;5;28mself\u001B[39m\u001B[38;5;241m.\u001B[39minput_col \u001B[38;5;129;01mis\u001B[39;00m \u001B[38;5;28;01mNone\u001B[39;00m \u001B[38;5;129;01mand\u001B[39;00m \u001B[38;5;28mself\u001B[39m\u001B[38;5;241m.\u001B[39moutput_col \u001B[38;5;129;01mis\u001B[39;00m \u001B[38;5;28;01mNone\u001B[39;00m:\n\u001B[0;32m     81\u001B[0m         \u001B[38;5;28;01mreturn\u001B[39;00m \u001B[38;5;28mself\u001B[39m\u001B[38;5;241m.\u001B[39mfn(data)\n",
      "\u001B[1;31mKeyboardInterrupt\u001B[0m: "
     ]
    }
   ],
   "source": [
    "train_iter = AG_NEWS(split='train')\n",
    "#train_iter = iter(AG_NEWS('train'))\n",
    "num_class = len(set([label for (label, text) in train_iter]))\n",
    "vocab_size = len(vocab)\n",
    "emsize = 64\n",
    "hidden_size = 100\n",
    "num_layers = 1\n",
    "LSTM_model = LSTM(vocab_size, emsize, num_class, hidden_size, num_layers).to(device)"
   ]
  },
  {
   "cell_type": "code",
   "execution_count": null,
   "metadata": {},
   "outputs": [],
   "source": [
    "import time\n",
    "\n",
    "def train(dataloader):\n",
    "    LSTM_model.train()\n",
    "    total_acc, total_count = 0, 0\n",
    "    log_interval = 500\n",
    "    start_time = time.time()\n",
    "\n",
    "    for idx, (label, text, offsets) in enumerate(dataloader):\n",
    "        optimizer.zero_grad()\n",
    "        predicted_label = LSTM_model(text, offsets).squeeze()\n",
    "        loss = criterion(predicted_label, label)\n",
    "        loss.backward()\n",
    "        torch.nn.utils.clip_grad_norm_(LSTM_model.parameters(), 0.1)\n",
    "        optimizer.step()\n",
    "        total_acc += (predicted_label.argmax(1) == label).sum().item()\n",
    "        total_count += label.size(0)\n",
    "        if idx % log_interval == 0 and idx > 0:\n",
    "            elapsed = time.time() - start_time\n",
    "            print('| epoch {:3d} | {:5d}/{:5d} batches '\n",
    "                  '| accuracy {:8.3f}'.format(epoch, idx, len(dataloader),\n",
    "                                              total_acc/total_count))\n",
    "            total_acc, total_count = 0, 0\n",
    "            start_time = time.time()\n",
    "\n",
    "def evaluate(dataloader):\n",
    "    LSTM_model.eval()\n",
    "    total_acc, total_count = 0, 0\n",
    "\n",
    "    with torch.no_grad():\n",
    "        for idx, (label, text, offsets) in enumerate(dataloader):\n",
    "            predicted_label = LSTM_model(text, offsets).squeeze()\n",
    "            loss = criterion(predicted_label, label)\n",
    "            total_acc += (predicted_label.argmax(1) == label).sum().item()\n",
    "            total_count += label.size(0)\n",
    "    return total_acc/total_count"
   ]
  },
  {
   "cell_type": "code",
   "execution_count": null,
   "metadata": {},
   "outputs": [],
   "source": [
    "from torch.utils.data.dataset import random_split\n",
    "from torchtext.data.functional import to_map_style_dataset\n",
    "\n",
    "# 定义cache, 缓存epoch的结果\n",
    "cache = {\n",
    "    'epoch': [],\n",
    "    'acc': []\n",
    "}\n",
    "\n",
    "# Hyperparameters超参数\n",
    "EPOCHS = 10 # epoch\n",
    "LR = 5  # learning rate学习率\n",
    "BATCH_SIZE = 64 # batch size for training\n",
    "  \n",
    "criterion = torch.nn.CrossEntropyLoss()\n",
    "optimizer = torch.optim.SGD(LSTM_model.parameters(), lr=LR)\n",
    "scheduler = torch.optim.lr_scheduler.StepLR(optimizer, 1.0, gamma=0.1)\n",
    "total_accu = None\n",
    "# train_iter, test_iter = AG_NEWS()\n",
    "# train_dataset = to_map_style_dataset(train_iter)\n",
    "# test_dataset = to_map_style_dataset(test_iter)\n",
    "path = r''\n",
    "train_iter, test_iter = AG_NEWS(root=path)\n",
    "train_dataset = to_map_style_dataset(iter(train_iter))\n",
    "test_dataset = to_map_style_dataset(iter(test_iter))\n",
    "num_train = int(len(train_dataset) * 0.95)\n",
    "split_train_, split_valid_ = \\\n",
    "    random_split(train_dataset, [num_train, len(train_dataset) - num_train])\n",
    "\n",
    "train_dataloader = DataLoader(split_train_, batch_size=BATCH_SIZE,\n",
    "                              shuffle=True, collate_fn=collate_batch)\n",
    "valid_dataloader = DataLoader(split_valid_, batch_size=BATCH_SIZE,\n",
    "                              shuffle=True, collate_fn=collate_batch)\n",
    "test_dataloader = DataLoader(test_dataset, batch_size=BATCH_SIZE,\n",
    "                             shuffle=True, collate_fn=collate_batch)\n",
    "\n",
    "for epoch in range(1, EPOCHS + 1):\n",
    "    epoch_start_time = time.time()\n",
    "    train(train_dataloader)\n",
    "    accu_val = evaluate(valid_dataloader)\n",
    "    if total_accu is not None and total_accu > accu_val:\n",
    "      scheduler.step()\n",
    "    else:\n",
    "       total_accu = accu_val\n",
    "    cache['epoch'].append(epoch)\n",
    "    cache['acc'].append(accu_val)\n",
    "    print('-' * 59)\n",
    "    print('| end of epoch {:3d} | time: {:5.2f}s | '\n",
    "          'valid accuracy {:8.3f} '.format(epoch,\n",
    "                                           time.time() - epoch_start_time,\n",
    "                                           accu_val))\n",
    "    print('-' * 59)"
   ]
  },
  {
   "cell_type": "code",
   "execution_count": null,
   "outputs": [],
   "source": [
    "import matplotlib\n",
    "import seaborn as sns\n",
    "import matplotlib.pyplot as plt\n",
    "\n",
    "sns.set(style='dark')\n",
    "sns.lineplot(x=\"epoch\", y=\"acc\", data=cache).set_xlim(0, 11)\n",
    "# 添加文本标签\n",
    "for i in range(len(cache['epoch'])):\n",
    "    plt.text(cache['epoch'][i] + 0.2, cache['acc'][i] - 0.001, \"{:.3f}\".format(cache['acc'][i]), fontsize=10)\n",
    "plt.show()"
   ],
   "metadata": {
    "collapsed": false
   }
  },
  {
   "cell_type": "code",
   "execution_count": null,
   "metadata": {},
   "outputs": [],
   "source": [
    "print('Checking the results of test dataset.')\n",
    "accu_test = evaluate(test_dataloader)\n",
    "print('test accuracy {:8.3f}'.format(accu_test))"
   ]
  },
  {
   "cell_type": "markdown",
   "metadata": {},
   "source": [
    "实验要求\n",
    "-------------------\n",
    "\n",
    "   - 配置实验环境，阅读教程样例并运行，理解实验流程\n",
    "    \n",
    "   - 将教程中的单层线性模型改为双层模型，并比较至少三组超参数和两种激活函数，写入实验报告\n",
    "       - 需要了解的内容：激活函数，如nn.Tanh()等\n",
    "   \n",
    "   - 解除TextClassificationModel中一行代码的注释，再次运行模型，比较前后结果，并解释为什么，写入实验报告"
   ]
  },
  {
   "cell_type": "markdown",
   "metadata": {},
   "source": [
    "参考文献\n",
    "\n",
    "https://pytorch.org/tutorials/beginner/text_sentiment_ngrams_tutorial.html"
   ]
  },
  {
   "cell_type": "markdown",
   "metadata": {},
   "source": [
    "提交时间\n",
    "----------------\n",
    "\n",
    "10月23日前\n",
    "\n",
    "提交格式：word或pdf\n",
    "`学号-姓名-实验1`\n",
    "\n",
    "提交地址:\n",
    "`https://workspace.jianguoyun.com/inbox/collect/8d90cb29f6e04a1c87edb7647768c046/submit`"
   ]
  }
 ],
 "metadata": {
  "kernelspec": {
   "display_name": "Python 3",
   "language": "python",
   "name": "python3"
  },
  "language_info": {
   "codemirror_mode": {
    "name": "ipython",
    "version": 3
   },
   "file_extension": ".py",
   "mimetype": "text/x-python",
   "name": "python",
   "nbconvert_exporter": "python",
   "pygments_lexer": "ipython3",
   "version": "3.8.3"
  }
 },
 "nbformat": 4,
 "nbformat_minor": 1
}
